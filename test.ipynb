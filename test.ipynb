{
 "cells": [
  {
   "cell_type": "code",
   "execution_count": 114,
   "metadata": {},
   "outputs": [
    {
     "data": {
      "text/plain": [
       "(('f1', 5),\n",
       " ('f2', 12),\n",
       " ('f3', 3),\n",
       " ('f4', 2),\n",
       " ('f5', 13),\n",
       " ('f6', 7),\n",
       " ('f7', 10),\n",
       " ('f8', 13),\n",
       " ('f9', 20),\n",
       " ('f10', 13))"
      ]
     },
     "execution_count": 114,
     "metadata": {},
     "output_type": "execute_result"
    }
   ],
   "source": [
    "import json\n",
    "import csv\n",
    "f = open('spec.json')\n",
    "data = json.load(f)\n",
    "f.close()\n",
    "\n",
    "list1 = data['ColumnNames']\n",
    "list2 = data['Offsets']\n",
    "columns = tuple(map(tuple, zip(list1, list(map(int, list2)))))\n",
    "columns"
   ]
  },
  {
   "cell_type": "code",
   "execution_count": 115,
   "metadata": {},
   "outputs": [
    {
     "name": "stdout",
     "output_type": "stream",
     "text": [
      "f1   f2          f3 f4f5           f6     f7        f8           f9                  f10          \n"
     ]
    }
   ],
   "source": [
    "print(''.join([(field_name).ljust(width) for field_name, width in columns]))"
   ]
  },
  {
   "cell_type": "code",
   "execution_count": null,
   "metadata": {},
   "outputs": [],
   "source": []
  }
 ],
 "metadata": {
  "kernelspec": {
   "display_name": "Python 3",
   "language": "python",
   "name": "python3"
  },
  "language_info": {
   "codemirror_mode": {
    "name": "ipython",
    "version": 3
   },
   "file_extension": ".py",
   "mimetype": "text/x-python",
   "name": "python",
   "nbconvert_exporter": "python",
   "pygments_lexer": "ipython3",
   "version": "3.6.5"
  }
 },
 "nbformat": 4,
 "nbformat_minor": 2
}
